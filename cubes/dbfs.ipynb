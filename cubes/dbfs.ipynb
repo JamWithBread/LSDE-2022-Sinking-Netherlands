{
 "cells": [
  {
   "cell_type": "code",
   "execution_count": 11,
   "metadata": {
    "collapsed": true,
    "pycharm": {
     "name": "#%%\n"
    }
   },
   "outputs": [],
   "source": [
    "import pandas as pd\n",
    "import utils\n",
    "df_ahn2 = pd.read_parquet('ahn2/ahn2_positions.gzip')"
   ]
  },
  {
   "cell_type": "code",
   "execution_count": 12,
   "outputs": [
    {
     "data": {
      "text/plain": "            path                                          positions\n0  ahn2/0_0.json  [-2816.15625, 0.0, -3279.9375, -2484.84375, 0....\n1  ahn2/1_0.json  [-2816.15625, 0.0, -2894.0625, -2484.84375, 0....\n2  ahn2/2_0.json  [-2816.15625, 0.0, -2508.1875, -2484.84375, 0....\n3  ahn2/3_0.json  [-2816.15625, 0.0, -2122.3125, -2484.84375, 0....\n4  ahn2/4_0.json  [-2816.15625, 0.0, -1736.4375, -2484.84375, 0....",
      "text/html": "<div>\n<style scoped>\n    .dataframe tbody tr th:only-of-type {\n        vertical-align: middle;\n    }\n\n    .dataframe tbody tr th {\n        vertical-align: top;\n    }\n\n    .dataframe thead th {\n        text-align: right;\n    }\n</style>\n<table border=\"1\" class=\"dataframe\">\n  <thead>\n    <tr style=\"text-align: right;\">\n      <th></th>\n      <th>path</th>\n      <th>positions</th>\n    </tr>\n  </thead>\n  <tbody>\n    <tr>\n      <th>0</th>\n      <td>ahn2/0_0.json</td>\n      <td>[-2816.15625, 0.0, -3279.9375, -2484.84375, 0....</td>\n    </tr>\n    <tr>\n      <th>1</th>\n      <td>ahn2/1_0.json</td>\n      <td>[-2816.15625, 0.0, -2894.0625, -2484.84375, 0....</td>\n    </tr>\n    <tr>\n      <th>2</th>\n      <td>ahn2/2_0.json</td>\n      <td>[-2816.15625, 0.0, -2508.1875, -2484.84375, 0....</td>\n    </tr>\n    <tr>\n      <th>3</th>\n      <td>ahn2/3_0.json</td>\n      <td>[-2816.15625, 0.0, -2122.3125, -2484.84375, 0....</td>\n    </tr>\n    <tr>\n      <th>4</th>\n      <td>ahn2/4_0.json</td>\n      <td>[-2816.15625, 0.0, -1736.4375, -2484.84375, 0....</td>\n    </tr>\n  </tbody>\n</table>\n</div>"
     },
     "execution_count": 12,
     "metadata": {},
     "output_type": "execute_result"
    }
   ],
   "source": [
    "df_ahn2.head()"
   ],
   "metadata": {
    "collapsed": false,
    "pycharm": {
     "name": "#%%\n"
    }
   }
  },
  {
   "cell_type": "code",
   "execution_count": 13,
   "outputs": [],
   "source": [
    "dicts = df_ahn2.to_dict('records')\n",
    "for d in dicts:\n",
    "\tutils.store_positions_as_json(d['positions'], d['path'])\n"
   ],
   "metadata": {
    "collapsed": false,
    "pycharm": {
     "name": "#%%\n"
    }
   }
  },
  {
   "cell_type": "code",
   "execution_count": null,
   "outputs": [],
   "source": [],
   "metadata": {
    "collapsed": false,
    "pycharm": {
     "name": "#%%\n"
    }
   }
  }
 ],
 "metadata": {
  "kernelspec": {
   "display_name": "Python 3",
   "language": "python",
   "name": "python3"
  },
  "language_info": {
   "codemirror_mode": {
    "name": "ipython",
    "version": 2
   },
   "file_extension": ".py",
   "mimetype": "text/x-python",
   "name": "python",
   "nbconvert_exporter": "python",
   "pygments_lexer": "ipython2",
   "version": "2.7.6"
  }
 },
 "nbformat": 4,
 "nbformat_minor": 0
}